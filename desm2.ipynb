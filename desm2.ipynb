{
 "cells": [
  {
   "cell_type": "code",
   "execution_count": 1,
   "metadata": {},
   "outputs": [
    {
     "name": "stdout",
     "output_type": "stream",
     "text": [
      "23/04/08 18:08:57 WARN Utils: Your hostname, wedivv-H110M-S2V resolves to a loopback address: 127.0.1.1; using 192.168.1.44 instead (on interface wlp5s0)\n",
      "23/04/08 18:08:57 WARN Utils: Set SPARK_LOCAL_IP if you need to bind to another address\n"
     ]
    },
    {
     "name": "stderr",
     "output_type": "stream",
     "text": [
      "Setting default log level to \"WARN\".\n",
      "To adjust logging level use sc.setLogLevel(newLevel). For SparkR, use setLogLevel(newLevel).\n"
     ]
    },
    {
     "name": "stdout",
     "output_type": "stream",
     "text": [
      "23/04/08 18:08:57 WARN NativeCodeLoader: Unable to load native-hadoop library for your platform... using builtin-java classes where applicable\n"
     ]
    }
   ],
   "source": [
    "from pyspark.sql import SparkSession\n",
    "\n",
    "spark = SparkSession.builder \\\n",
    "    .master(\"local[*]\") \\\n",
    "    .appName('cnaes - DESAFIO M2 IGTI DeCloud') \\\n",
    "    .getOrCreate()"
   ]
  },
  {
   "cell_type": "code",
   "execution_count": 36,
   "metadata": {},
   "outputs": [
    {
     "name": "stdout",
     "output_type": "stream",
     "text": [
      "+------+--------------------+\n",
      "|  CNAE|      DESCRICAO_CNAE|\n",
      "+------+--------------------+\n",
      "|111301|    Cultivo de arroz|\n",
      "|111302|    Cultivo de milho|\n",
      "|111303|    Cultivo de trigo|\n",
      "|111399|Cultivo de outros...|\n",
      "|112101|Cultivo de algodã...|\n",
      "+------+--------------------+\n",
      "only showing top 5 rows\n",
      "\n"
     ]
    }
   ],
   "source": [
    "cnaes = spark.read.csv('data/dados/cnaes/cnaes.csv',header=True, sep=';', encoding='ISO-8859-1', inferSchema=True)\n",
    "cnaes.show(5)"
   ]
  },
  {
   "cell_type": "code",
   "execution_count": 86,
   "metadata": {},
   "outputs": [
    {
     "name": "stdout",
     "output_type": "stream",
     "text": [
      "root\n",
      " |-- CNAE: integer (nullable = true)\n",
      " |-- DESCRICAO_CNAE: string (nullable = true)\n",
      "\n"
     ]
    }
   ],
   "source": [
    "cnaes.printSchema()"
   ]
  },
  {
   "cell_type": "code",
   "execution_count": 37,
   "metadata": {},
   "outputs": [
    {
     "name": "stderr",
     "output_type": "stream",
     "text": [
      "[Stage 62:======================================================> (29 + 1) / 30]\r"
     ]
    },
    {
     "name": "stdout",
     "output_type": "stream",
     "text": [
      "+-----------+----------+-------+---------------------------+--------------------+------------------+-----------------------+-------------------------+--------------------------+----+---------------------+--------------+---------------+-----------------+--------------------+------+--------------------+--------------------+--------+---+---------+-----+--------+-----+--------+-------+--------+--------------------+-----------------+----------------------+\n",
      "|CNPJ_BASICO|CNPJ_ORDEM|CNPJ_DV|IDENTIFICADOR_MATRIZ_FILIAL|       NOME_FANTASIA|SITUACAO_CADASTRAL|DATA_SITUACAO_CADASTRAL|MOTIVO_SITUACAO_CADASTRAL|NOME_DA_CIDADE_NO_EXTERIOR|PAIS|DATA_INICIO_ATIVIDADE|CNAE_PRINCIPAL|CNAE_SECUNDARIA|  TIPO_LOGRADOURO|          LOGRADOURO|NUMERO|         COMPLEMENTO|              BAIRRO|     CEP| UF|MUNICIPIO|DDD_1|   TEL_1|DDD_2|   TEL_2|DDD_FAX|     FAX|  CORREIO_ELETRONICO|SITUACAO_ESPECIAL|DATA_SITUACAO_ESPECIAL|\n",
      "+-----------+----------+-------+---------------------------+--------------------+------------------+-----------------------+-------------------------+--------------------------+----+---------------------+--------------+---------------+-----------------+--------------------+------+--------------------+--------------------+--------+---+---------+-----+--------+-----+--------+-------+--------+--------------------+-----------------+----------------------+\n",
      "|   18380574|         3|     60|                          2|                null|                 2|               20210331|                        0|                      null|null|             20210331|        113000|        0116499|          ESTRADA|MUNICIPAL SUZANAP...|   S/N|ST SAO FRANCISCO III|         PONTE PENSA|15380000| SP|     2945|   18|97463793|   18|36581216|   18.0|36581216|NEREURIZZATO@GMAI...|             null|                  null|\n",
      "|   41754889|         1|     80|                          1|                null|                 2|               20210429|                        0|                      null|null|             20210429|        119999|           null|ESTRADA MUNICIPAL|PIRANGI AO BAIRRO...|    SN|   SITIO TABARANINHA|               RURAL|15820000| SP|     6881|   16|32429714|   16|32413006|   null|    null|EXATO.CONTAB@GMAI...|             null|                  null|\n",
      "|   41754895|         1|     37|                          1|CASA DE FRANGO DO...|                 2|               20210429|                        0|                      null|null|             20210429|       4724500|5611201,5611203|              RUA|CORONEL NEWTON BA...|    12|              LOJA B|MANGUEIRAS (BARRE...|30666280| MG|     4123|   31|25221897| null|    null|   null|    null|GUILHERMEAVSOUZA@...|             null|                  null|\n",
      "|   41754906|         1|     89|                          1|                null|                 2|               20210429|                        0|                      null|null|             20210429|       4930201|           null|              RUA|                DOIS|    94|                null|            VILA ZAT|02977320| SP|     7107|   11|42799923| null|    null|   null|    null|LAURAGMONICA@GMAI...|             null|                  null|\n",
      "|   41754917|         1|     69|                          1|                null|                 2|               20210429|                        0|                      null|null|             20210429|       8219999|           null|     NUCLEO RURAL|     POVOADO CONRADO|   S/N|                null|          ZONA RURAL|57200000| AL|     2833|   82|96015664| null|    null|   null|    null|CRISLANE-TAIS@HOT...|             null|                  null|\n",
      "+-----------+----------+-------+---------------------------+--------------------+------------------+-----------------------+-------------------------+--------------------------+----+---------------------+--------------+---------------+-----------------+--------------------+------+--------------------+--------------------+--------+---+---------+-----+--------+-----+--------+-------+--------+--------------------+-----------------+----------------------+\n",
      "only showing top 5 rows\n",
      "\n"
     ]
    },
    {
     "name": "stderr",
     "output_type": "stream",
     "text": [
      "                                                                                \r"
     ]
    }
   ],
   "source": [
    "estabelecimentos = spark.read.csv('data/dados/estabelecimentos/*', header=True, sep=';', encoding='ISO-8859-1', inferSchema=True)\n",
    "estabelecimentos.show(5)"
   ]
  },
  {
   "cell_type": "code",
   "execution_count": 32,
   "metadata": {},
   "outputs": [
    {
     "name": "stderr",
     "output_type": "stream",
     "text": [
      "                                                                                \r"
     ]
    },
    {
     "data": {
      "text/plain": [
       "20996744"
      ]
     },
     "execution_count": 32,
     "metadata": {},
     "output_type": "execute_result"
    }
   ],
   "source": [
    "estabelecimentos.count()"
   ]
  },
  {
   "cell_type": "code",
   "execution_count": 38,
   "metadata": {},
   "outputs": [
    {
     "name": "stdout",
     "output_type": "stream",
     "text": [
      "root\n",
      " |-- CNPJ_BASICO: integer (nullable = true)\n",
      " |-- CNPJ_ORDEM: integer (nullable = true)\n",
      " |-- CNPJ_DV: integer (nullable = true)\n",
      " |-- IDENTIFICADOR_MATRIZ_FILIAL: integer (nullable = true)\n",
      " |-- NOME_FANTASIA: string (nullable = true)\n",
      " |-- SITUACAO_CADASTRAL: integer (nullable = true)\n",
      " |-- DATA_SITUACAO_CADASTRAL: integer (nullable = true)\n",
      " |-- MOTIVO_SITUACAO_CADASTRAL: integer (nullable = true)\n",
      " |-- NOME_DA_CIDADE_NO_EXTERIOR: string (nullable = true)\n",
      " |-- PAIS: integer (nullable = true)\n",
      " |-- DATA_INICIO_ATIVIDADE: integer (nullable = true)\n",
      " |-- CNAE_PRINCIPAL: integer (nullable = true)\n",
      " |-- CNAE_SECUNDARIA: string (nullable = true)\n",
      " |-- TIPO_LOGRADOURO: string (nullable = true)\n",
      " |-- LOGRADOURO: string (nullable = true)\n",
      " |-- NUMERO: string (nullable = true)\n",
      " |-- COMPLEMENTO: string (nullable = true)\n",
      " |-- BAIRRO: string (nullable = true)\n",
      " |-- CEP: string (nullable = true)\n",
      " |-- UF: string (nullable = true)\n",
      " |-- MUNICIPIO: integer (nullable = true)\n",
      " |-- DDD_1: string (nullable = true)\n",
      " |-- TEL_1: string (nullable = true)\n",
      " |-- DDD_2: string (nullable = true)\n",
      " |-- TEL_2: string (nullable = true)\n",
      " |-- DDD_FAX: double (nullable = true)\n",
      " |-- FAX: string (nullable = true)\n",
      " |-- CORREIO_ELETRONICO: string (nullable = true)\n",
      " |-- SITUACAO_ESPECIAL: string (nullable = true)\n",
      " |-- DATA_SITUACAO_ESPECIAL: integer (nullable = true)\n",
      "\n"
     ]
    }
   ],
   "source": [
    "estabelecimentos.printSchema()"
   ]
  },
  {
   "cell_type": "code",
   "execution_count": 39,
   "metadata": {},
   "outputs": [
    {
     "name": "stderr",
     "output_type": "stream",
     "text": [
      "[Stage 64:============================================>           (24 + 4) / 30]\r"
     ]
    },
    {
     "name": "stdout",
     "output_type": "stream",
     "text": [
      "+----------------+\n",
      "|estabelecimentos|\n",
      "+----------------+\n",
      "|        20996744|\n",
      "+----------------+\n",
      "\n"
     ]
    },
    {
     "name": "stderr",
     "output_type": "stream",
     "text": [
      "                                                                                \r"
     ]
    }
   ],
   "source": [
    "estabelecimentos.createOrReplaceTempView(\"estab_table\")\n",
    "\n",
    "spark.sql(\"SELECT COUNT(*) AS estabelecimentos FROM estab_table\").show()"
   ]
  },
  {
   "cell_type": "code",
   "execution_count": 40,
   "metadata": {},
   "outputs": [
    {
     "name": "stderr",
     "output_type": "stream",
     "text": [
      "                                                                                \r"
     ]
    }
   ],
   "source": [
    "estabelecimentos.write.parquet('data/dados/estabelecimentos/estabelecimentos.parquet')"
   ]
  },
  {
   "cell_type": "code",
   "execution_count": 45,
   "metadata": {},
   "outputs": [
    {
     "name": "stderr",
     "output_type": "stream",
     "text": [
      "[Stage 74:======================================================> (29 + 1) / 30]\r"
     ]
    },
    {
     "name": "stdout",
     "output_type": "stream",
     "text": [
      "+----------------+\n",
      "|estab_sem_lograd|\n",
      "+----------------+\n",
      "|             828|\n",
      "+----------------+\n",
      "\n"
     ]
    },
    {
     "name": "stderr",
     "output_type": "stream",
     "text": [
      "                                                                                \r"
     ]
    }
   ],
   "source": [
    "spark.sql(\"SELECT COUNT(*) AS estab_sem_lograd FROM estab_table WHERE LOGRADOURO IS NULL\").show()"
   ]
  },
  {
   "cell_type": "code",
   "execution_count": 81,
   "metadata": {},
   "outputs": [
    {
     "name": "stderr",
     "output_type": "stream",
     "text": [
      "[Stage 98:===================================>                    (19 + 4) / 30]\r"
     ]
    },
    {
     "name": "stdout",
     "output_type": "stream",
     "text": [
      "23/04/08 22:31:08 WARN SimpleFunctionRegistry: The function is_avenida replaced a previously registered function.\n"
     ]
    },
    {
     "name": "stderr",
     "output_type": "stream",
     "text": [
      "[Stage 99:======================================================> (29 + 1) / 30]\r"
     ]
    },
    {
     "name": "stdout",
     "output_type": "stream",
     "text": [
      "+--------+\n",
      "|avenidas|\n",
      "+--------+\n",
      "|   52587|\n",
      "+--------+\n",
      "\n"
     ]
    },
    {
     "name": "stderr",
     "output_type": "stream",
     "text": [
      "                                                                                \r"
     ]
    }
   ],
   "source": [
    "from pyspark.sql.functions import udf\n",
    "from pyspark.sql.types import BooleanType\n",
    "\n",
    "def is_avenida_fun(logra):\n",
    "    if isinstance(logra, str) and logra.lower().startswith(('avenida')):\n",
    "        return True\n",
    "    return None\n",
    "\n",
    "is_avenida = udf(is_avenida_fun, BooleanType())\n",
    "\n",
    "spark.udf.register(\"is_avenida\", is_avenida)\n",
    "\n",
    "spark.sql(\"SELECT COUNT(*) as avenidas FROM estab_table WHERE is_avenida(LOGRADOURO) == True\").show()"
   ]
  },
  {
   "cell_type": "code",
   "execution_count": 85,
   "metadata": {},
   "outputs": [
    {
     "name": "stderr",
     "output_type": "stream",
     "text": [
      "[Stage 109:>                                                        (0 + 4) / 4]\r"
     ]
    },
    {
     "name": "stdout",
     "output_type": "stream",
     "text": [
      "+-------------------+\n",
      "|count(DISTINCT CEP)|\n",
      "+-------------------+\n",
      "|             889885|\n",
      "+-------------------+\n",
      "\n"
     ]
    },
    {
     "name": "stderr",
     "output_type": "stream",
     "text": [
      "                                                                                \r"
     ]
    }
   ],
   "source": [
    "spark.sql(\"SELECT COUNT(DISTINCT CEP) FROM estab_table\").show()"
   ]
  },
  {
   "cell_type": "code",
   "execution_count": 88,
   "metadata": {},
   "outputs": [
    {
     "name": "stdout",
     "output_type": "stream",
     "text": [
      "+-----------+\n",
      "|count(CNAE)|\n",
      "+-----------+\n",
      "|       1359|\n",
      "+-----------+\n",
      "\n"
     ]
    }
   ],
   "source": [
    "cnaes.createOrReplaceTempView('cnae_table')\n",
    "\n",
    "spark.sql(\"SELECT COUNT(CNAE) FROM cnae_table\").show()"
   ]
  },
  {
   "cell_type": "code",
   "execution_count": 98,
   "metadata": {},
   "outputs": [],
   "source": [
    "complete = estabelecimentos.join(cnaes, estabelecimentos[\"CNAE_PRINCIPAL\"] == cnaes[\"CNAE\"], \"inner\")\n"
   ]
  },
  {
   "cell_type": "code",
   "execution_count": 99,
   "metadata": {},
   "outputs": [
    {
     "name": "stdout",
     "output_type": "stream",
     "text": [
      "+-----------+----------+-------+---------------------------+--------------------+------------------+-----------------------+-------------------------+--------------------------+----+---------------------+--------------+---------------+-----------------+--------------------+------+--------------------+--------------------+--------+---+---------+-----+--------+-----+--------+-------+--------+--------------------+-----------------+----------------------+-------+--------------------+\n",
      "|CNPJ_BASICO|CNPJ_ORDEM|CNPJ_DV|IDENTIFICADOR_MATRIZ_FILIAL|       NOME_FANTASIA|SITUACAO_CADASTRAL|DATA_SITUACAO_CADASTRAL|MOTIVO_SITUACAO_CADASTRAL|NOME_DA_CIDADE_NO_EXTERIOR|PAIS|DATA_INICIO_ATIVIDADE|CNAE_PRINCIPAL|CNAE_SECUNDARIA|  TIPO_LOGRADOURO|          LOGRADOURO|NUMERO|         COMPLEMENTO|              BAIRRO|     CEP| UF|MUNICIPIO|DDD_1|   TEL_1|DDD_2|   TEL_2|DDD_FAX|     FAX|  CORREIO_ELETRONICO|SITUACAO_ESPECIAL|DATA_SITUACAO_ESPECIAL|   CNAE|      DESCRICAO_CNAE|\n",
      "+-----------+----------+-------+---------------------------+--------------------+------------------+-----------------------+-------------------------+--------------------------+----+---------------------+--------------+---------------+-----------------+--------------------+------+--------------------+--------------------+--------+---+---------+-----+--------+-----+--------+-------+--------+--------------------+-----------------+----------------------+-------+--------------------+\n",
      "|   18380574|         3|     60|                          2|                null|                 2|               20210331|                        0|                      null|null|             20210331|        113000|        0116499|          ESTRADA|MUNICIPAL SUZANAP...|   S/N|ST SAO FRANCISCO III|         PONTE PENSA|15380000| SP|     2945|   18|97463793|   18|36581216|   18.0|36581216|NEREURIZZATO@GMAI...|             null|                  null| 113000|Cultivo de cana-d...|\n",
      "|   41754889|         1|     80|                          1|                null|                 2|               20210429|                        0|                      null|null|             20210429|        119999|           null|ESTRADA MUNICIPAL|PIRANGI AO BAIRRO...|    SN|   SITIO TABARANINHA|               RURAL|15820000| SP|     6881|   16|32429714|   16|32413006|   null|    null|EXATO.CONTAB@GMAI...|             null|                  null| 119999|Cultivo de outras...|\n",
      "|   41754895|         1|     37|                          1|CASA DE FRANGO DO...|                 2|               20210429|                        0|                      null|null|             20210429|       4724500|5611201,5611203|              RUA|CORONEL NEWTON BA...|    12|              LOJA B|MANGUEIRAS (BARRE...|30666280| MG|     4123|   31|25221897| null|    null|   null|    null|GUILHERMEAVSOUZA@...|             null|                  null|4724500|Comércio varejist...|\n",
      "|   41754906|         1|     89|                          1|                null|                 2|               20210429|                        0|                      null|null|             20210429|       4930201|           null|              RUA|                DOIS|    94|                null|            VILA ZAT|02977320| SP|     7107|   11|42799923| null|    null|   null|    null|LAURAGMONICA@GMAI...|             null|                  null|4930201|Transporte rodovi...|\n",
      "|   41754917|         1|     69|                          1|                null|                 2|               20210429|                        0|                      null|null|             20210429|       8219999|           null|     NUCLEO RURAL|     POVOADO CONRADO|   S/N|                null|          ZONA RURAL|57200000| AL|     2833|   82|96015664| null|    null|   null|    null|CRISLANE-TAIS@HOT...|             null|                  null|8219999|Preparação de doc...|\n",
      "+-----------+----------+-------+---------------------------+--------------------+------------------+-----------------------+-------------------------+--------------------------+----+---------------------+--------------+---------------+-----------------+--------------------+------+--------------------+--------------------+--------+---+---------+-----+--------+-----+--------+-------+--------+--------------------+-----------------+----------------------+-------+--------------------+\n",
      "only showing top 5 rows\n",
      "\n"
     ]
    }
   ],
   "source": [
    "complete.show(5)"
   ]
  },
  {
   "cell_type": "code",
   "execution_count": 101,
   "metadata": {},
   "outputs": [
    {
     "data": {
      "text/plain": [
       "<function __main__.cnae_desc(desc)>"
      ]
     },
     "execution_count": 101,
     "metadata": {},
     "output_type": "execute_result"
    }
   ],
   "source": [
    "\n",
    "def cnae_desc(desc):\n",
    "    if isinstance(desc, str) and desc.lower().startswith(('cultivo de')):\n",
    "        return True\n",
    "    return None\n",
    "\n",
    "is_cultivo = udf(cnae_desc, BooleanType())\n",
    "\n",
    "spark.udf.register(\"is_cultivo\", is_cultivo)\n"
   ]
  },
  {
   "cell_type": "code",
   "execution_count": 104,
   "metadata": {},
   "outputs": [
    {
     "name": "stderr",
     "output_type": "stream",
     "text": [
      "[Stage 130:=====================================================> (29 + 1) / 30]\r"
     ]
    },
    {
     "name": "stdout",
     "output_type": "stream",
     "text": [
      "+--------+\n",
      "|count(1)|\n",
      "+--------+\n",
      "|  200124|\n",
      "+--------+\n",
      "\n"
     ]
    },
    {
     "name": "stderr",
     "output_type": "stream",
     "text": [
      "                                                                                \r"
     ]
    }
   ],
   "source": [
    "complete.createOrReplaceTempView('full_table')\n",
    "\n",
    "spark.sql(\"\"\"\n",
    "    SELECT COUNT(*)\n",
    "    FROM full_table\n",
    "    WHERE is_cultivo(DESCRICAO_CNAE) == True\n",
    "\"\"\").show()"
   ]
  },
  {
   "cell_type": "code",
   "execution_count": 90,
   "metadata": {},
   "outputs": [
    {
     "name": "stderr",
     "output_type": "stream",
     "text": [
      "[Stage 119:===================================================>   (28 + 2) / 30]\r"
     ]
    },
    {
     "name": "stdout",
     "output_type": "stream",
     "text": [
      "+--------+\n",
      "|count(1)|\n",
      "+--------+\n",
      "| 1093082|\n",
      "+--------+\n",
      "\n"
     ]
    },
    {
     "name": "stderr",
     "output_type": "stream",
     "text": [
      "                                                                                \r"
     ]
    }
   ],
   "source": [
    "spark.sql(\"SELECT COUNT(*) from estab_table WHERE IDENTIFICADOR_MATRIZ_FILIAL = 2\").show()"
   ]
  }
 ],
 "metadata": {
  "kernelspec": {
   "display_name": "Python 3",
   "language": "python",
   "name": "python3"
  },
  "language_info": {
   "codemirror_mode": {
    "name": "ipython",
    "version": 3
   },
   "file_extension": ".py",
   "mimetype": "text/x-python",
   "name": "python",
   "nbconvert_exporter": "python",
   "pygments_lexer": "ipython3",
   "version": "3.10.6"
  },
  "orig_nbformat": 4
 },
 "nbformat": 4,
 "nbformat_minor": 2
}
