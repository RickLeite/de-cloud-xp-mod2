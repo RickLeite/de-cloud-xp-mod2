{
 "cells": [
  {
   "cell_type": "code",
   "execution_count": 1,
   "metadata": {},
   "outputs": [],
   "source": [
    "from pyspark.sql import SparkSession"
   ]
  },
  {
   "cell_type": "code",
   "execution_count": 2,
   "metadata": {},
   "outputs": [
    {
     "name": "stderr",
     "output_type": "stream",
     "text": [
      "23/05/17 18:26:57 WARN Utils: Your hostname, wedivv-H110M-S2V resolves to a loopback address: 127.0.1.1; using 192.168.1.44 instead (on interface wlp5s0)\n",
      "23/05/17 18:26:57 WARN Utils: Set SPARK_LOCAL_IP if you need to bind to another address\n",
      "Setting default log level to \"WARN\".\n",
      "To adjust logging level use sc.setLogLevel(newLevel). For SparkR, use setLogLevel(newLevel).\n",
      "23/05/17 18:26:58 WARN NativeCodeLoader: Unable to load native-hadoop library for your platform... using builtin-java classes where applicable\n"
     ]
    }
   ],
   "source": [
    "spark = (SparkSession\n",
    "         .builder\n",
    "         .appName(\"Enem 2020 micro desafio final\")\n",
    "         .getOrCreate())"
   ]
  },
  {
   "cell_type": "code",
   "execution_count": 3,
   "metadata": {},
   "outputs": [],
   "source": [
    "df_enem = spark.read.format(\"csv\").option(\"sep\", \";\").option(\"header\", True).load(\"./data/MICRODADOS_ENEM_2020.csv\")"
   ]
  },
  {
   "cell_type": "code",
   "execution_count": 4,
   "metadata": {},
   "outputs": [
    {
     "name": "stderr",
     "output_type": "stream",
     "text": [
      "23/05/17 18:27:05 WARN package: Truncated the string representation of a plan since it was too large. This behavior can be adjusted by setting 'spark.sql.debug.maxToStringFields'.\n"
     ]
    },
    {
     "name": "stdout",
     "output_type": "stream",
     "text": [
      "+------------+------+---------------+-------+---------------+-----------+----------------+---------------+---------------+---------+---------+------------+----------------+-------------------+---------+---------+----------------------+------------------+---------------+------------------+--------------------+-----------+-----------+--------------+--------------+--------------+--------------+-----------+-----------+-----------+-----------+----------+----------+----------+----------+--------------------+--------------------+--------------------+--------------------+---------+--------------------+--------------------+--------------------+--------------------+-----------------+-------------+-------------+-------------+-------------+-------------+---------------+----+----+----+----+----+----+----+----+----+----+----+----+----+----+----+----+----+----+----+----+----+----+----+----+----+\n",
      "|NU_INSCRICAO|NU_ANO|TP_FAIXA_ETARIA|TP_SEXO|TP_ESTADO_CIVIL|TP_COR_RACA|TP_NACIONALIDADE|TP_ST_CONCLUSAO|TP_ANO_CONCLUIU|TP_ESCOLA|TP_ENSINO|IN_TREINEIRO|CO_MUNICIPIO_ESC|   NO_MUNICIPIO_ESC|CO_UF_ESC|SG_UF_ESC|TP_DEPENDENCIA_ADM_ESC|TP_LOCALIZACAO_ESC|TP_SIT_FUNC_ESC|CO_MUNICIPIO_PROVA|  NO_MUNICIPIO_PROVA|CO_UF_PROVA|SG_UF_PROVA|TP_PRESENCA_CN|TP_PRESENCA_CH|TP_PRESENCA_LC|TP_PRESENCA_MT|CO_PROVA_CN|CO_PROVA_CH|CO_PROVA_LC|CO_PROVA_MT|NU_NOTA_CN|NU_NOTA_CH|NU_NOTA_LC|NU_NOTA_MT|     TX_RESPOSTAS_CN|     TX_RESPOSTAS_CH|     TX_RESPOSTAS_LC|     TX_RESPOSTAS_MT|TP_LINGUA|      TX_GABARITO_CN|      TX_GABARITO_CH|      TX_GABARITO_LC|      TX_GABARITO_MT|TP_STATUS_REDACAO|NU_NOTA_COMP1|NU_NOTA_COMP2|NU_NOTA_COMP3|NU_NOTA_COMP4|NU_NOTA_COMP5|NU_NOTA_REDACAO|Q001|Q002|Q003|Q004|Q005|Q006|Q007|Q008|Q009|Q010|Q011|Q012|Q013|Q014|Q015|Q016|Q017|Q018|Q019|Q020|Q021|Q022|Q023|Q024|Q025|\n",
      "+------------+------+---------------+-------+---------------+-----------+----------------+---------------+---------------+---------+---------+------------+----------------+-------------------+---------+---------+----------------------+------------------+---------------+------------------+--------------------+-----------+-----------+--------------+--------------+--------------+--------------+-----------+-----------+-----------+-----------+----------+----------+----------+----------+--------------------+--------------------+--------------------+--------------------+---------+--------------------+--------------------+--------------------+--------------------+-----------------+-------------+-------------+-------------+-------------+-------------+---------------+----+----+----+----+----+----+----+----+----+----+----+----+----+----+----+----+----+----+----+----+----+----+----+----+----+\n",
      "|200006271946|  2020|             11|      F|              1|          2|               1|              1|             11|        1|     null|           0|            null|               null|     null|     null|                  null|              null|           null|           1501402|               Bel�m|         15|         PA|             0|             0|             0|             0|       null|       null|       null|       null|      null|      null|      null|      null|                null|                null|                null|                null|        1|                null|                null|                null|                null|             null|         null|         null|         null|         null|         null|           null|null|null|null|null|null|null|null|null|null|null|null|null|null|null|null|null|null|null|null|null|null|null|null|null|null|\n",
      "|200001195856|  2020|             11|      M|              2|          3|               1|              1|             11|        1|     null|           0|            null|               null|     null|     null|                  null|              null|           null|           2408102|               Natal|         24|         RN|             1|             1|             1|             1|        702|        689|        693|        698|     604.1|     661.7|     595.3|     711.3|BCBDBDCCCDBDDBADE...|BCAECABCDCEBDBBBD...|99999CADDEDADBAAB...|EBEBDEDAECBADCADD...|        1|ABBACBCCCDDDDBAEE...|BCEECDBCCDEBDBBBB...|99999CBDDEDBDBACE...|BBEADECAECBBXCEBA...|                1|          120|          120|          120|          120|          100|            580|null|null|null|null|null|null|null|null|null|null|null|null|null|null|null|null|null|null|null|null|null|null|null|null|null|\n",
      "|200001943954|  2020|              4|      F|              2|          3|               2|              2|              0|        2|        1|           0|         2927408|           Salvador|       29|       BA|                     2|                 1|              1|           2927408|            Salvador|         29|         BA|             0|             0|             0|             0|       null|       null|       null|       null|      null|      null|      null|      null|                null|                null|                null|                null|        0|                null|                null|                null|                null|             null|         null|         null|         null|         null|         null|           null|   B|   C|   A|   D|   3|   B|   A|   B|   A|   A|   A|   B|   A|   B|   A|   B|   A|   A|   B|   A|   A|   A|   A|   A|   A|\n",
      "|200001908998|  2020|              2|      M|              1|          3|               1|              2|              0|        2|        1|           0|         3547304|Santana de Parna�ba|       35|       SP|                     3|                 1|              1|           3547304| Santana de Parna�ba|         35|         SP|             1|             1|             1|             1|        700|        688|        692|        696|     620.8|       675|     624.2|     759.4|EBEDCCCDCBDBAECAE...|DABCCACCBCCDCADBD...|DCEAB99999AADAECC...|CBDBDCCDDEECBAABB...|        0|BDECCACBEBDEAEDAE...|DABCCAECBABECADBD...|DCEAD99999AADACCC...|EBDBXCCDAEECBAABA...|                1|          140|          200|          140|          120|          160|            760|null|null|null|null|null|null|null|null|null|null|null|null|null|null|null|null|null|null|null|null|null|null|null|null|null|\n",
      "|200001634757|  2020|              4|      F|              1|          3|               2|              1|              1|        1|     null|           0|            null|               null|     null|     null|                  null|              null|           null|           3121605|          Diamantina|         31|         MG|             0|             0|             0|             0|       null|       null|       null|       null|      null|      null|      null|      null|                null|                null|                null|                null|        1|                null|                null|                null|                null|             null|         null|         null|         null|         null|         null|           null|   B|   G|   B|   B|   3|   B|   A|   B|   D|   A|   A|   B|   A|   B|   A|   A|   A|   A|   B|   A|   B|   B|   A|   A|   B|\n",
      "|200003132410|  2020|              3|      F|              1|          3|               1|              1|              1|        1|     null|           0|            null|               null|     null|     null|                  null|              null|           null|           4305207|         Cerro Largo|         43|         RS|             1|             1|             1|             1|        598|        567|        577|        588|     498.1|     604.7|     505.4|     526.7|CABBEEACAEBEBCCDA...|ACEBBDDCADDAACEEA...|99999CBECEBEDBEEC...|BADCAAAEEDBEDBACE...|        1|CEDBDDDCACCBDAEBA...|DABCBDDDAEDBECECB...|AAEDCACEEECEAACBA...|AEBCCXCCCACCDABCC...|                1|          140|          120|          140|          140|          160|            700|   C|   B|   C|   B|   5|   C|   A|   B|   E|   A|   A|   B|   A|   A|   A|   B|   A|   A|   B|   B|   A|   D|   A|   B|   B|\n",
      "|200001379770|  2020|              9|      M|              1|          3|               1|              1|              6|        1|     null|           0|            null|               null|     null|     null|                  null|              null|           null|           2611606|              Recife|         26|         PE|             0|             0|             0|             0|       null|       null|       null|       null|      null|      null|      null|      null|                null|                null|                null|                null|        0|                null|                null|                null|                null|             null|         null|         null|         null|         null|         null|           null|null|null|null|null|null|null|null|null|null|null|null|null|null|null|null|null|null|null|null|null|null|null|null|null|null|\n",
      "|200001334237|  2020|              4|      M|              1|          1|               1|              1|              1|        1|     null|           0|            null|               null|     null|     null|                  null|              null|           null|           3550308|           S�o Paulo|         35|         SP|             1|             1|             1|             1|        699|        687|        691|        695|     604.6|     604.8|     562.1|     753.2|CECACBBCADACADDEE...|EAADABBEABCADDBAA...|CADDE99999AEEADBA...|BABADDBDAEBAEBBBE...|        0|DEAAECBBCDCBAEBEE...|EAAADBBEDBDACDBCC...|CADDE99999DEBBBBB...|BABBDABAEEBACBACD...|                1|          140|          120|          120|          120|          100|            600|null|null|null|null|null|null|null|null|null|null|null|null|null|null|null|null|null|null|null|null|null|null|null|null|null|\n",
      "|200006762554|  2020|              5|      F|              2|          3|               1|              1|              3|        1|     null|           0|            null|               null|     null|     null|                  null|              null|           null|           2507507|         Jo�o Pessoa|         25|         PB|             1|             1|             1|             1|        598|        567|        577|        588|     439.7|     383.5|     486.2|     448.5|DABCDCAEDEDCBEDCD...|ECCAEAEACDDABCBDA...|99999DDCBBABECCAC...|EEDCCEACEBAAAADCD...|        1|CEDBDDDCACCBDAEBA...|DABCBDDDAEDBECECB...|AAEDCACEEECEAACBA...|AEBCCXCCCACCDABCC...|                1|          120|          120|          120|          140|          100|            600|   B|   C|   C|   B|   2|   B|   A|   B|   C|   A|   A|   B|   A|   B|   A|   A|   A|   A|   B|   A|   A|   C|   A|   A|   A|\n",
      "|200005146210|  2020|              2|      M|              1|          2|               1|              2|              0|        2|        1|           0|            null|               null|     null|     null|                  null|              null|           null|           2304400|           Fortaleza|         23|         CE|             0|             0|             0|             0|       null|       null|       null|       null|      null|      null|      null|      null|                null|                null|                null|                null|        0|                null|                null|                null|                null|             null|         null|         null|         null|         null|         null|           null|   A|   A|   B|   A|   4|   B|   A|   B|   B|   A|   A|   B|   A|   A|   A|   A|   A|   A|   B|   A|   A|   A|   A|   A|   B|\n",
      "|200004902048|  2020|              6|      M|              1|          1|               1|              1|              3|        1|     null|           0|            null|               null|     null|     null|                  null|              null|           null|           3550308|           S�o Paulo|         35|         SP|             0|             0|             0|             0|       null|       null|       null|       null|      null|      null|      null|      null|                null|                null|                null|                null|        0|                null|                null|                null|                null|             null|         null|         null|         null|         null|         null|           null|   B|   B|   B|   B|   7|   B|   A|   B|   C|   A|   A|   B|   A|   A|   A|   B|   A|   A|   B|   A|   A|   C|   B|   B|   B|\n",
      "|200006138472|  2020|              7|      M|              1|          1|               1|              1|              0|        1|     null|           0|            null|               null|     null|     null|                  null|              null|           null|           2910727|           Eun�polis|         29|         BA|             1|             1|             1|             1|        598|        567|        577|        588|     491.1|     631.4|     627.9|     546.5|BAEACEDBACDDEDECE...|CDEABDDDABDBEABCA...|AACDC99999ABDBEDA...|EBCDBEBABDBBDABCB...|        0|CEDBDDDCACCBDAEBA...|DABCBDDDAEDBECECB...|AAEDCACEEECEAACBA...|AEBCCXCCCACCDABCC...|                1|          140|          120|          140|          120|          120|            640|   B|   C|   C|   B|   5|   B|   A|   B|   C|   A|   A|   B|   A|   A|   A|   A|   B|   A|   B|   A|   A|   C|   A|   B|   B|\n",
      "|200005613689|  2020|              3|      F|              1|          3|               1|              1|              1|        1|     null|           0|            null|               null|     null|     null|                  null|              null|           null|           5008305|         Tr�s Lagoas|         50|         MS|             0|             0|             0|             0|       null|       null|       null|       null|      null|      null|      null|      null|                null|                null|                null|                null|        0|                null|                null|                null|                null|             null|         null|         null|         null|         null|         null|           null|   D|   E|   A|   A|   3|   B|   A|   B|   C|   A|   A|   B|   A|   A|   A|   A|   A|   A|   A|   A|   A|   C|   A|   A|   A|\n",
      "|200004833505|  2020|             11|      F|              2|          2|               1|              1|             12|        1|     null|           0|            null|               null|     null|     null|                  null|              null|           null|           3547809|         Santo Andr�|         35|         SP|             0|             0|             0|             0|       null|       null|       null|       null|      null|      null|      null|      null|                null|                null|                null|                null|        1|                null|                null|                null|                null|             null|         null|         null|         null|         null|         null|           null|null|null|null|null|null|null|null|null|null|null|null|null|null|null|null|null|null|null|null|null|null|null|null|null|null|\n",
      "|200004570764|  2020|             11|      M|              1|          2|               1|              1|              0|        1|     null|           0|            null|               null|     null|     null|                  null|              null|           null|           2604007|             Carpina|         26|         PE|             0|             0|             0|             0|       null|       null|       null|       null|      null|      null|      null|      null|                null|                null|                null|                null|        1|                null|                null|                null|                null|             null|         null|         null|         null|         null|         null|           null|   H|   B|   F|   B|   3|   B|   A|   C|   D|   A|   A|   B|   A|   A|   A|   A|   A|   A|   B|   A|   A|   B|   A|   B|   B|\n",
      "|200001071590|  2020|              5|      F|              1|          3|               1|              1|              0|        1|     null|           0|            null|               null|     null|     null|                  null|              null|           null|           2800308|             Aracaju|         28|         SE|             0|             0|             0|             0|       null|       null|       null|       null|      null|      null|      null|      null|                null|                null|                null|                null|        1|                null|                null|                null|                null|             null|         null|         null|         null|         null|         null|           null|null|null|null|null|null|null|null|null|null|null|null|null|null|null|null|null|null|null|null|null|null|null|null|null|null|\n",
      "|200001934470|  2020|              7|      F|              1|          3|               1|              1|              4|        1|     null|           0|            null|               null|     null|     null|                  null|              null|           null|           2933307|Vit�ria da Conquista|         29|         BA|             0|             0|             0|             0|       null|       null|       null|       null|      null|      null|      null|      null|                null|                null|                null|                null|        1|                null|                null|                null|                null|             null|         null|         null|         null|         null|         null|           null|   A|   B|   F|   F|   3|   B|   A|   B|   C|   A|   A|   B|   B|   A|   A|   A|   A|   A|   B|   A|   A|   C|   A|   B|   B|\n",
      "|200006066678|  2020|              4|      M|              1|          1|               1|              1|              1|        1|     null|           0|            null|               null|     null|     null|                  null|              null|           null|           4106902|            Curitiba|         41|         PR|             0|             0|             0|             0|       null|       null|       null|       null|      null|      null|      null|      null|                null|                null|                null|                null|        0|                null|                null|                null|                null|             null|         null|         null|         null|         null|         null|           null|null|null|null|null|null|null|null|null|null|null|null|null|null|null|null|null|null|null|null|null|null|null|null|null|null|\n",
      "|200003343448|  2020|              7|      F|              1|          3|               1|              1|              3|        1|     null|           0|            null|               null|     null|     null|                  null|              null|           null|           2704302|              Macei�|         27|         AL|             1|             1|             1|             1|        597|        569|        580|        587|     422.4|     488.1|     559.1|     420.3|BDCEDABCECACBDCBB...|CAEADAEEDEDBDDCAB...|CADAA99999ABCBEBD...|BBCCDBEADABBE*CED...|        0|DDBACBDDDECDAEDCC...|DECCADEBDECBBECDD...|DCEAAEEEACAACBBEB...|DABCCAEDBBCCCABCA...|                1|          140|          180|          140|          160|          180|            800|   C|   C|   C|   B|   2|   B|   A|   B|   C|   A|   A|   B|   A|   A|   A|   A|   A|   A|   B|   B|   A|   C|   A|   B|   B|\n",
      "|200005966328|  2020|             13|      M|              1|          2|               1|              1|              0|        1|     null|           0|            null|               null|     null|     null|                  null|              null|           null|           1501402|               Bel�m|         15|         PA|             1|             1|             1|             1|        600|        570|        579|        589|       486|     503.3|     439.8|     405.6|DBEBBBCCDCBCAEBAE...|BABAEABBEDBDCDBBE...|99999EAADBDAABCBD...|BBAADDCCEABAAEBBA...|        1|DCDXDCCAEBADCBAAE...|BDDBECECBACDBDEEB...|AACDEEEECADBBCAAA...|BAECDBBXCCCBDBACC...|                1|          100|          100|          120|          100|           80|            500|   C|   D|   C|   C|   5|   D|   A|   C|   C|   A|   A|   B|   A|   A|   A|   A|   A|   A|   B|   B|   A|   C|   A|   A|   A|\n",
      "+------------+------+---------------+-------+---------------+-----------+----------------+---------------+---------------+---------+---------+------------+----------------+-------------------+---------+---------+----------------------+------------------+---------------+------------------+--------------------+-----------+-----------+--------------+--------------+--------------+--------------+-----------+-----------+-----------+-----------+----------+----------+----------+----------+--------------------+--------------------+--------------------+--------------------+---------+--------------------+--------------------+--------------------+--------------------+-----------------+-------------+-------------+-------------+-------------+-------------+---------------+----+----+----+----+----+----+----+----+----+----+----+----+----+----+----+----+----+----+----+----+----+----+----+----+----+\n",
      "only showing top 20 rows\n",
      "\n"
     ]
    }
   ],
   "source": [
    "df_enem.show()"
   ]
  },
  {
   "attachments": {},
   "cell_type": "markdown",
   "metadata": {},
   "source": [
    "1. Quantos alunos não quiseram declarar a cor/raça em 2020 (Entenda a opção “não declarado” nessa pergunta)?"
   ]
  },
  {
   "cell_type": "code",
   "execution_count": 5,
   "metadata": {},
   "outputs": [
    {
     "name": "stderr",
     "output_type": "stream",
     "text": [
      "[Stage 2:==============================================>          (13 + 3) / 16]\r"
     ]
    },
    {
     "name": "stdout",
     "output_type": "stream",
     "text": [
      "+-------------+-------+\n",
      "|          Cor|  count|\n",
      "+-------------+-------+\n",
      "|Não declarado| 116883|\n",
      "|     Indígena|  37846|\n",
      "|        Preta| 771740|\n",
      "|      Amarela| 128522|\n",
      "|       Branca|2007633|\n",
      "|        Parda|2720485|\n",
      "+-------------+-------+\n",
      "\n"
     ]
    },
    {
     "name": "stderr",
     "output_type": "stream",
     "text": [
      "                                                                                \r"
     ]
    }
   ],
   "source": [
    "from pyspark.sql.functions import when, col\n",
    "(\n",
    "    df_enem\n",
    "    .select(\"TP_COR_RACA\",\n",
    "            when(col(\"TP_COR_RACA\") == 0, \"Não declarado\")\n",
    "            .when(col(\"TP_COR_RACA\") == 1, \"Branca\")\n",
    "            .when(col(\"TP_COR_RACA\") == 2, \"Preta\")\n",
    "            .when(col(\"TP_COR_RACA\") == 3, \"Parda\")\n",
    "            .when(col(\"TP_COR_RACA\") == 4, \"Amarela\")\n",
    "            .when(col(\"TP_COR_RACA\") == 5, \"Indígena\")\n",
    "            .otherwise(\"Unknown\").alias(\"Cor\")\n",
    "            )\n",
    "    .groupBy(\"Cor\")\n",
    "    .count()\n",
    ").show()"
   ]
  },
  {
   "attachments": {},
   "cell_type": "markdown",
   "metadata": {},
   "source": [
    "2. Qual é o número de alunos do Sexo Feminino que estudaram em escola no estado de São Paulo?"
   ]
  },
  {
   "cell_type": "code",
   "execution_count": 6,
   "metadata": {},
   "outputs": [
    {
     "name": "stderr",
     "output_type": "stream",
     "text": [
      "[Stage 5:=====================================================>   (15 + 1) / 16]\r"
     ]
    },
    {
     "name": "stdout",
     "output_type": "stream",
     "text": [
      "+---------+-----+\n",
      "|SG_UF_ESC|count|\n",
      "+---------+-----+\n",
      "|       SP|91480|\n",
      "+---------+-----+\n",
      "\n"
     ]
    },
    {
     "name": "stderr",
     "output_type": "stream",
     "text": [
      "                                                                                \r"
     ]
    }
   ],
   "source": [
    "(\n",
    "    df_enem\n",
    "    .select(\"SG_UF_ESC\")\n",
    "    .where((col(\"SG_UF_ESC\") == \"SP\") & (col(\"TP_SEXO\") == \"F\") )\n",
    "    .groupBy(\"SG_UF_ESC\")\n",
    "    .count()\n",
    ").show()"
   ]
  },
  {
   "attachments": {},
   "cell_type": "markdown",
   "metadata": {},
   "source": [
    "3. Quantos alunos do sexo feminino que estudaram em escola no estado do Rio Grande do Sul possuem EXATAMENTE uma geladeira em casa?"
   ]
  },
  {
   "cell_type": "code",
   "execution_count": 7,
   "metadata": {},
   "outputs": [
    {
     "name": "stderr",
     "output_type": "stream",
     "text": [
      "[Stage 8:==============================================>          (13 + 3) / 16]\r"
     ]
    },
    {
     "name": "stdout",
     "output_type": "stream",
     "text": [
      "+---------+-----+\n",
      "|SG_UF_ESC|count|\n",
      "+---------+-----+\n",
      "|       RS|18680|\n",
      "+---------+-----+\n",
      "\n"
     ]
    },
    {
     "name": "stderr",
     "output_type": "stream",
     "text": [
      "                                                                                \r"
     ]
    }
   ],
   "source": [
    "(\n",
    "    df_enem\n",
    "    .select(\"SG_UF_ESC\")\n",
    "    .where((col(\"SG_UF_ESC\") == \"RS\") & (col(\"TP_SEXO\") == \"F\") & (col(\"Q012\") == \"B\") )\n",
    "    .groupBy(\"SG_UF_ESC\")\n",
    "    .count()\n",
    ").show()"
   ]
  },
  {
   "attachments": {},
   "cell_type": "markdown",
   "metadata": {},
   "source": [
    "4. Qual é o segundo estado brasileiro (considere a coluna SG_UF_ESC) em que estudaram mais alunos no ENEM 2020?"
   ]
  },
  {
   "cell_type": "code",
   "execution_count": 8,
   "metadata": {},
   "outputs": [
    {
     "name": "stderr",
     "output_type": "stream",
     "text": [
      "[Stage 11:====================================================>   (15 + 1) / 16]\r"
     ]
    },
    {
     "name": "stdout",
     "output_type": "stream",
     "text": [
      "+---------+-------+\n",
      "|SG_UF_ESC|  count|\n",
      "+---------+-------+\n",
      "|     null|4878540|\n",
      "|       SP| 167183|\n",
      "|       CE| 104981|\n",
      "|       MG|  71614|\n",
      "|       RJ|  62583|\n",
      "|       PE|  47583|\n",
      "|       BA|  47235|\n",
      "|       PR|  43060|\n",
      "|       GO|  39769|\n",
      "|       RS|  36478|\n",
      "|       PA|  33109|\n",
      "|       AM|  30120|\n",
      "|       SC|  27373|\n",
      "|       MA|  26104|\n",
      "|       DF|  19840|\n",
      "|       PB|  19760|\n",
      "|       ES|  18419|\n",
      "|       PI|  15738|\n",
      "|       MT|  14674|\n",
      "|       RN|  14327|\n",
      "+---------+-------+\n",
      "only showing top 20 rows\n",
      "\n"
     ]
    },
    {
     "name": "stderr",
     "output_type": "stream",
     "text": [
      "                                                                                \r"
     ]
    }
   ],
   "source": [
    "from pyspark.sql.functions import desc\n",
    "(\n",
    "    df_enem\n",
    "    .select(\"SG_UF_ESC\")\n",
    "    .groupBy(\"SG_UF_ESC\")\n",
    "    .count()\n",
    "    .orderBy(desc(\"count\"))\n",
    ").show()"
   ]
  },
  {
   "attachments": {},
   "cell_type": "markdown",
   "metadata": {},
   "source": [
    "5. Qual é o estado brasileiro (considere a coluna SG_UF_ESC) possui o menor número de alunos cuja mãe possui ensino superior completo?"
   ]
  },
  {
   "cell_type": "code",
   "execution_count": 9,
   "metadata": {},
   "outputs": [
    {
     "name": "stderr",
     "output_type": "stream",
     "text": [
      "[Stage 14:====================================================>   (15 + 1) / 16]\r"
     ]
    },
    {
     "name": "stdout",
     "output_type": "stream",
     "text": [
      "+---------+-----+\n",
      "|SG_UF_ESC|count|\n",
      "+---------+-----+\n",
      "|       RR|  425|\n",
      "|       AC|  491|\n",
      "|       AP|  494|\n",
      "|       SE|  936|\n",
      "|       RO| 1002|\n",
      "|       TO| 1114|\n",
      "|       AL| 1197|\n",
      "|       PI| 1641|\n",
      "|       RN| 1712|\n",
      "|       MS| 1823|\n",
      "|       ES| 1966|\n",
      "|       PB| 2038|\n",
      "|       MT| 2206|\n",
      "|       AM| 2224|\n",
      "|       MA| 2302|\n",
      "|       PA| 3552|\n",
      "|       SC| 3592|\n",
      "|       DF| 3735|\n",
      "|       PE| 4089|\n",
      "|       GO| 4150|\n",
      "+---------+-----+\n",
      "only showing top 20 rows\n",
      "\n"
     ]
    },
    {
     "name": "stderr",
     "output_type": "stream",
     "text": [
      "                                                                                \r"
     ]
    }
   ],
   "source": [
    "from pyspark.sql.functions import asc \n",
    "(\n",
    "    df_enem\n",
    "    .select(\"SG_UF_ESC\")\n",
    "    .where(col(\"Q002\") == \"F\")\n",
    "    .groupBy(\"SG_UF_ESC\")\n",
    "    .count()\n",
    "    .orderBy(asc(\"count\"))\n",
    ").show()"
   ]
  },
  {
   "attachments": {},
   "cell_type": "markdown",
   "metadata": {},
   "source": [
    "6. Qual é o segundo estado brasileiro (considere a coluna SG_UF_ESC) que possui o maior número de pessoas na faixa “entre 26 e 30 anos”?"
   ]
  },
  {
   "cell_type": "code",
   "execution_count": 10,
   "metadata": {},
   "outputs": [
    {
     "name": "stderr",
     "output_type": "stream",
     "text": [
      "[Stage 17:====================================================>   (15 + 1) / 16]\r"
     ]
    },
    {
     "name": "stdout",
     "output_type": "stream",
     "text": [
      "+---------+------+\n",
      "|SG_UF_ESC| count|\n",
      "+---------+------+\n",
      "|     null|567071|\n",
      "|       CE|  1880|\n",
      "|       AM|   828|\n",
      "|       SP|   580|\n",
      "|       GO|   518|\n",
      "|       PA|   479|\n",
      "|       PE|   461|\n",
      "|       RJ|   456|\n",
      "|       BA|   450|\n",
      "|       MG|   432|\n",
      "|       PR|   221|\n",
      "|       RO|   215|\n",
      "|       PB|   201|\n",
      "|       RS|   195|\n",
      "|       SE|   183|\n",
      "|       MA|   160|\n",
      "|       PI|   154|\n",
      "|       TO|   150|\n",
      "|       RN|   121|\n",
      "|       ES|   117|\n",
      "+---------+------+\n",
      "only showing top 20 rows\n",
      "\n"
     ]
    },
    {
     "name": "stderr",
     "output_type": "stream",
     "text": [
      "                                                                                \r"
     ]
    }
   ],
   "source": [
    "(\n",
    "    df_enem\n",
    "    .select(\"SG_UF_ESC\")\n",
    "    .where(col(\"TP_FAIXA_ETARIA\") == 11)\n",
    "    .groupBy(\"SG_UF_ESC\")\n",
    "    .count()\n",
    "    .orderBy(desc(\"count\"))\n",
    ").show()"
   ]
  },
  {
   "attachments": {},
   "cell_type": "markdown",
   "metadata": {},
   "source": [
    "7. Qual é o estado brasileiro (considere a coluna SG_UF_ESC) que possui o TERCEIRO maior número de alunos cuja residência possui PELO MENOS 2 banheiros?"
   ]
  },
  {
   "cell_type": "code",
   "execution_count": 11,
   "metadata": {},
   "outputs": [
    {
     "name": "stderr",
     "output_type": "stream",
     "text": [
      "[Stage 20:=============================================>          (13 + 3) / 16]\r"
     ]
    },
    {
     "name": "stdout",
     "output_type": "stream",
     "text": [
      "+---------+------+\n",
      "|SG_UF_ESC| count|\n",
      "+---------+------+\n",
      "|     null|858100|\n",
      "|       SP| 49267|\n",
      "|       MG| 20213|\n",
      "|       RJ| 15540|\n",
      "|       PR| 12686|\n",
      "|       CE| 11531|\n",
      "|       GO| 10441|\n",
      "|       RS|  9557|\n",
      "|       BA|  9022|\n",
      "|       SC|  8838|\n",
      "|       PE|  8181|\n",
      "|       PA|  5919|\n",
      "|       DF|  5605|\n",
      "|       ES|  5164|\n",
      "|       AM|  4392|\n",
      "|       PB|  4309|\n",
      "|       MT|  3972|\n",
      "|       MA|  3921|\n",
      "|       RN|  3883|\n",
      "|       MS|  3179|\n",
      "+---------+------+\n",
      "only showing top 20 rows\n",
      "\n"
     ]
    },
    {
     "name": "stderr",
     "output_type": "stream",
     "text": [
      "                                                                                \r"
     ]
    }
   ],
   "source": [
    "(\n",
    "    df_enem\n",
    "    .select(\"SG_UF_ESC\")\n",
    "    .where(col(\"Q008\") == \"C\")\n",
    "    .groupBy(\"SG_UF_ESC\")\n",
    "    .count()\n",
    "    .orderBy(desc(\"count\"))\n",
    ").show()"
   ]
  },
  {
   "attachments": {},
   "cell_type": "markdown",
   "metadata": {},
   "source": [
    "8. Quantos alunos do sexo feminino se autodeclararam pretos?"
   ]
  },
  {
   "cell_type": "code",
   "execution_count": 12,
   "metadata": {},
   "outputs": [
    {
     "name": "stderr",
     "output_type": "stream",
     "text": [
      "[Stage 23:====================================================>   (15 + 1) / 16]\r"
     ]
    },
    {
     "name": "stdout",
     "output_type": "stream",
     "text": [
      "+-------------+-------+\n",
      "|          Cor|  count|\n",
      "+-------------+-------+\n",
      "|Não declarado|  67351|\n",
      "|     Indígena|  21077|\n",
      "|        Preta| 444346|\n",
      "|      Amarela|  87741|\n",
      "|       Branca|1197994|\n",
      "|        Parda|1650296|\n",
      "+-------------+-------+\n",
      "\n"
     ]
    },
    {
     "name": "stderr",
     "output_type": "stream",
     "text": [
      "                                                                                \r"
     ]
    }
   ],
   "source": [
    "from pyspark.sql.functions import when, col\n",
    "(\n",
    "    df_enem\n",
    "    .select(\"TP_COR_RACA\",\n",
    "            when(col(\"TP_COR_RACA\") == 0, \"Não declarado\")\n",
    "            .when(col(\"TP_COR_RACA\") == 1, \"Branca\")\n",
    "            .when(col(\"TP_COR_RACA\") == 2, \"Preta\")\n",
    "            .when(col(\"TP_COR_RACA\") == 3, \"Parda\")\n",
    "            .when(col(\"TP_COR_RACA\") == 4, \"Amarela\")\n",
    "            .when(col(\"TP_COR_RACA\") == 5, \"Indígena\")\n",
    "            .otherwise(\"Unknown\").alias(\"Cor\")\n",
    "            )\n",
    "    .where((col(\"TP_SEXO\") == \"F\"))\n",
    "    .groupBy(\"Cor\")\n",
    "    .count()\n",
    ").show()"
   ]
  },
  {
   "attachments": {},
   "cell_type": "markdown",
   "metadata": {},
   "source": [
    "9. Quantos alunos estrangeiros fizeram o ENEM 2020?"
   ]
  },
  {
   "cell_type": "code",
   "execution_count": 13,
   "metadata": {},
   "outputs": [
    {
     "name": "stderr",
     "output_type": "stream",
     "text": [
      "                                                                                \r"
     ]
    },
    {
     "data": {
      "text/plain": [
       "8036"
      ]
     },
     "execution_count": 13,
     "metadata": {},
     "output_type": "execute_result"
    }
   ],
   "source": [
    "(\n",
    "    df_enem\n",
    "    .select(\"TP_NACIONALIDADE\")\n",
    "    .where(col(\"TP_NACIONALIDADE\") == 3)\n",
    "    .count()\n",
    ")"
   ]
  },
  {
   "attachments": {},
   "cell_type": "markdown",
   "metadata": {},
   "source": [
    "10. Qual é a diferença da nota média em matemática dos alunos que estudaram o ensino médio em escola pública e em escola privada?"
   ]
  },
  {
   "cell_type": "code",
   "execution_count": 23,
   "metadata": {},
   "outputs": [
    {
     "name": "stderr",
     "output_type": "stream",
     "text": [
      "[Stage 32:====================================================>   (15 + 1) / 16]\r"
     ]
    },
    {
     "name": "stdout",
     "output_type": "stream",
     "text": [
      "+-------------+------------------+\n",
      "|       escola|  media_matematica|\n",
      "+-------------+------------------+\n",
      "|      Privada| 610.6393569797276|\n",
      "|      Pública|499.52498038446396|\n",
      "|Não respondeu| 520.0334252371376|\n",
      "+-------------+------------------+\n",
      "\n"
     ]
    },
    {
     "name": "stderr",
     "output_type": "stream",
     "text": [
      "                                                                                \r"
     ]
    }
   ],
   "source": [
    "from pyspark.sql.functions import avg\n",
    "\n",
    "diff_math_pp = (\n",
    "    df_enem.select(\"TP_ESCOLA\", \"NU_NOTA_MT\",\n",
    "                   when(col(\"TP_ESCOLA\") == 1, \"Não respondeu\")\n",
    "                   .when(col(\"TP_ESCOLA\") == 2, \"Pública\")\n",
    "                   .when(col(\"TP_ESCOLA\") == 3, \"Privada\")\n",
    "                   .when(col(\"TP_ESCOLA\") == 4, \"Exterior\")\n",
    "                   .otherwise(\"Unknown\").alias(\"escola\"))\n",
    "    .groupBy(\"escola\") \\\n",
    "    .agg(avg(\"NU_NOTA_MT\").alias(\"media_matematica\")) \n",
    "\n",
    ")\n",
    "\n",
    "diff_math_pp.show()"
   ]
  },
  {
   "cell_type": "code",
   "execution_count": 82,
   "metadata": {},
   "outputs": [
    {
     "name": "stdout",
     "output_type": "stream",
     "text": [
      "A diferença entre a média de matemática de alunos da escola pública para privada é de -111.11 pontos\n"
     ]
    }
   ],
   "source": [
    "media_matematica_publica = diff_math_pp.filter(col(\"escola\") == \"Pública\").select(\"media_matematica\").collect()[0][0]\n",
    "media_matematica_privada = diff_math_pp.filter(col(\"escola\") == \"Privada\").select(\"media_matematica\").collect()[0][0]\n",
    "media = media_matematica_publica - media_matematica_privada\n",
    "print(f\"A diferença entre a média de matemática de alunos da escola pública para privada é de {media:.2f} pontos\")\n"
   ]
  },
  {
   "attachments": {},
   "cell_type": "markdown",
   "metadata": {},
   "source": [
    "11. Qual é o estado brasileiro (considere a coluna SG_UF_ESC) que possui o maior número de alunos do sexo feminino indígenas?\n"
   ]
  },
  {
   "cell_type": "code",
   "execution_count": 106,
   "metadata": {},
   "outputs": [
    {
     "name": "stderr",
     "output_type": "stream",
     "text": [
      "[Stage 244:============================================>          (13 + 3) / 16]\r"
     ]
    },
    {
     "name": "stdout",
     "output_type": "stream",
     "text": [
      "+---------+-----+\n",
      "|SG_UF_ESC|count|\n",
      "+---------+-----+\n",
      "|     null|32161|\n",
      "|       AM|  789|\n",
      "|       CE|  721|\n",
      "|       SP|  561|\n",
      "|       PE|  470|\n",
      "|       BA|  369|\n",
      "|       MG|  268|\n",
      "|       PA|  267|\n",
      "|       MS|  236|\n",
      "|       PB|  208|\n",
      "|       RJ|  204|\n",
      "|       GO|  167|\n",
      "|       AL|  163|\n",
      "|       TO|  144|\n",
      "|       ES|  130|\n",
      "|       RR|  120|\n",
      "|       RO|  111|\n",
      "|       MA|  109|\n",
      "|       PR|  106|\n",
      "|       PI|   94|\n",
      "+---------+-----+\n",
      "only showing top 20 rows\n",
      "\n"
     ]
    },
    {
     "name": "stderr",
     "output_type": "stream",
     "text": [
      "                                                                                \r"
     ]
    }
   ],
   "source": [
    "(\n",
    "    df_enem\n",
    "    .where(\"TP_SEXO == 'F'\" and \"TP_COR_RACA == 5\")\n",
    "    .groupBy(\"SG_UF_ESC\")\n",
    "    .count()\n",
    "    .orderBy(desc(\"count\"))\n",
    ").show()"
   ]
  },
  {
   "attachments": {},
   "cell_type": "markdown",
   "metadata": {},
   "source": [
    "12. Qual é a diferença entre o número de alunos cujo pai possui pós-graduação completa e o número de alunos cuja mãe possui pós-graduação completa?\n"
   ]
  },
  {
   "cell_type": "code",
   "execution_count": 110,
   "metadata": {},
   "outputs": [
    {
     "name": "stderr",
     "output_type": "stream",
     "text": [
      "                                                                                \r"
     ]
    },
    {
     "data": {
      "text/plain": [
       "-194717"
      ]
     },
     "execution_count": 110,
     "metadata": {},
     "output_type": "execute_result"
    }
   ],
   "source": [
    "(\n",
    "    df_enem\n",
    "    .where(\"Q001 == 'G'\")\n",
    "    .count()\n",
    ") - (\n",
    "    df_enem\n",
    "    .where(\"Q002 == 'G'\")\n",
    "    .count()\n",
    "    )"
   ]
  },
  {
   "attachments": {},
   "cell_type": "markdown",
   "metadata": {},
   "source": [
    "13. Quantos alunos cuja residência possui ATÉ 2 carros estudaram na região NORDESTE do Brasil?\n",
    "Grupo de escolhas da pergunta\n",
    "\n"
   ]
  },
  {
   "cell_type": "code",
   "execution_count": 143,
   "metadata": {},
   "outputs": [
    {
     "name": "stderr",
     "output_type": "stream",
     "text": [
      "[Stage 320:================================================>      (14 + 2) / 16]\r"
     ]
    },
    {
     "name": "stdout",
     "output_type": "stream",
     "text": [
      "+------------+-------+\n",
      "|      Regiao|  count|\n",
      "+------------+-------+\n",
      "|     Unknown|1784489|\n",
      "|     Sudeste| 206102|\n",
      "|         Sul|  79983|\n",
      "|    Nordeste|  74533|\n",
      "|Centro-Oeste|  51082|\n",
      "|       Norte|  24683|\n",
      "+------------+-------+\n",
      "\n"
     ]
    },
    {
     "name": "stderr",
     "output_type": "stream",
     "text": [
      "                                                                                \r"
     ]
    }
   ],
   "source": [
    "(\n",
    "    df_enem\n",
    "    .select(\"SG_UF_ESC\",\n",
    "            when(col(\"SG_UF_ESC\").isin('MG', 'SP', 'ES', 'RJ'), 'Sudeste')\n",
    "            .when(col(\"SG_UF_ESC\").isin('RS', 'SC', 'PR'), 'Sul')\n",
    "            .when(col(\"SG_UF_ESC\").isin('MT', 'MS', 'GO', 'DF'), 'Centro-Oeste')\n",
    "            .when(col(\"SG_UF_ESC\").isin('AC', 'AM', 'RR', 'RO', 'PA', 'TO', 'AP'), 'Norte')\n",
    "            .when(col(\"SG_UF_ESC\").isin('MA', 'PI', 'CE', 'RN', 'PE', 'PB', 'SE', 'AL', 'BA'), 'Nordeste')\n",
    "            .otherwise(\"Unknown\").alias(\"Regiao\"))\n",
    "    .where(\"Q010 == 'B' OR Q010 == 'C'\") \n",
    "    .groupBy(\"Regiao\")\n",
    "    .count()\n",
    "    .orderBy(desc(\"count\"))\n",
    ").show(30)"
   ]
  },
  {
   "attachments": {},
   "cell_type": "markdown",
   "metadata": {},
   "source": [
    "14. Quantos alunos que estudaram em escolas em zona rural possuem internet em casa?"
   ]
  },
  {
   "cell_type": "code",
   "execution_count": 150,
   "metadata": {},
   "outputs": [
    {
     "name": "stderr",
     "output_type": "stream",
     "text": [
      "                                                                                \r"
     ]
    },
    {
     "data": {
      "text/plain": [
       "18979"
      ]
     },
     "execution_count": 150,
     "metadata": {},
     "output_type": "execute_result"
    }
   ],
   "source": [
    "(\n",
    "    df_enem\n",
    "    .where(\"TP_LOCALIZACAO_ESC == 2 AND Q025 = 'B'\")\n",
    "    .count()\n",
    ")"
   ]
  },
  {
   "attachments": {},
   "cell_type": "markdown",
   "metadata": {},
   "source": [
    "15. Qual é o nome do município que contém a SEGUNDA maior quantidade total de inscritos no ENEM 2020?"
   ]
  },
  {
   "cell_type": "code",
   "execution_count": 153,
   "metadata": {},
   "outputs": [
    {
     "name": "stderr",
     "output_type": "stream",
     "text": [
      "[Stage 332:===================================================>   (15 + 1) / 16]\r"
     ]
    },
    {
     "name": "stdout",
     "output_type": "stream",
     "text": [
      "+----------------+-------+\n",
      "|NO_MUNICIPIO_ESC|  count|\n",
      "+----------------+-------+\n",
      "|            null|4878540|\n",
      "|       S�o Paulo|  38277|\n",
      "|       Fortaleza|  27783|\n",
      "|  Rio de Janeiro|  26431|\n",
      "|        Bras�lia|  19840|\n",
      "|          Manaus|  17120|\n",
      "|  Belo Horizonte|  11826|\n",
      "|          Recife|  10735|\n",
      "|        Salvador|  10500|\n",
      "|        Curitiba|   9868|\n",
      "|           Bel�m|   9137|\n",
      "|         Goi�nia|   8920|\n",
      "|        S�o Lu�s|   6573|\n",
      "|        Teresina|   5776|\n",
      "|    Porto Alegre|   5650|\n",
      "|          Macei�|   5070|\n",
      "|     Jo�o Pessoa|   5005|\n",
      "|    Campo Grande|   4767|\n",
      "|       Guarulhos|   4689|\n",
      "|           Natal|   4519|\n",
      "+----------------+-------+\n",
      "only showing top 20 rows\n",
      "\n"
     ]
    },
    {
     "name": "stderr",
     "output_type": "stream",
     "text": [
      "                                                                                \r"
     ]
    }
   ],
   "source": [
    "(\n",
    "    df_enem\n",
    "    .select(\"NO_MUNICIPIO_ESC\")\n",
    "    .groupBy(\"NO_MUNICIPIO_ESC\")\n",
    "    .count()\n",
    "    .orderBy(desc(\"count\"))\n",
    ").show()"
   ]
  },
  {
   "attachments": {},
   "cell_type": "markdown",
   "metadata": {},
   "source": [
    "Questão 15. : pegando o exato valor, fazendo ranking"
   ]
  },
  {
   "cell_type": "code",
   "execution_count": 157,
   "metadata": {},
   "outputs": [
    {
     "name": "stderr",
     "output_type": "stream",
     "text": [
      "23/05/17 21:00:41 WARN WindowExec: No Partition Defined for Window operation! Moving all data to a single partition, this can cause serious performance degradation.\n",
      "23/05/17 21:00:41 WARN WindowExec: No Partition Defined for Window operation! Moving all data to a single partition, this can cause serious performance degradation.\n",
      "23/05/17 21:00:41 WARN WindowExec: No Partition Defined for Window operation! Moving all data to a single partition, this can cause serious performance degradation.\n",
      "23/05/17 21:00:50 WARN WindowExec: No Partition Defined for Window operation! Moving all data to a single partition, this can cause serious performance degradation.\n",
      "23/05/17 21:00:50 WARN WindowExec: No Partition Defined for Window operation! Moving all data to a single partition, this can cause serious performance degradation.\n",
      "23/05/17 21:00:50 WARN WindowExec: No Partition Defined for Window operation! Moving all data to a single partition, this can cause serious performance degradation.\n",
      "23/05/17 21:00:50 WARN WindowExec: No Partition Defined for Window operation! Moving all data to a single partition, this can cause serious performance degradation.\n"
     ]
    },
    {
     "name": "stdout",
     "output_type": "stream",
     "text": [
      "+----------------+-----+\n",
      "|NO_MUNICIPIO_ESC|count|\n",
      "+----------------+-----+\n",
      "|       Fortaleza|27783|\n",
      "+----------------+-----+\n",
      "\n"
     ]
    },
    {
     "name": "stderr",
     "output_type": "stream",
     "text": [
      "                                                                                \r"
     ]
    }
   ],
   "source": [
    "from pyspark.sql.window import Window\n",
    "from pyspark.sql import functions as F\n",
    "\n",
    "# Filter out rows with null value in NO_MUNICIPIO_ESC\n",
    "filtered_df = df_enem.filter(df_enem.NO_MUNICIPIO_ESC.isNotNull())\n",
    "\n",
    "# Create counts DataFrame\n",
    "counts = filtered_df.groupBy(\"NO_MUNICIPIO_ESC\").count().withColumnRenamed(\"count\", \"count\")\n",
    "\n",
    "# Create ranked DataFrame\n",
    "ranked = counts.withColumn(\"rank\", F.rank().over(Window.orderBy(F.desc(\"count\"))))\n",
    "\n",
    "# Filter for rank = 2\n",
    "result = ranked.filter(ranked.rank == 2).select(\"NO_MUNICIPIO_ESC\", \"count\")\n",
    "\n",
    "# Show the result\n",
    "result.show()\n"
   ]
  },
  {
   "attachments": {},
   "cell_type": "markdown",
   "metadata": {},
   "source": [
    "WITH counts AS (\n",
    "    SELECT NO_MUNICIPIO_ESC, COUNT(*) AS count\n",
    "    FROM df_enem\n",
    "    GROUP BY NO_MUNICIPIO_ESC\n",
    "),\n",
    "ranked AS (\n",
    "    SELECT NO_MUNICIPIO_ESC, count, RANK() OVER (ORDER BY count DESC) AS rank\n",
    "    FROM counts\n",
    ")\n",
    "SELECT NO_MUNICIPIO_ESC, count\n",
    "FROM ranked\n",
    "WHERE rank = 2"
   ]
  },
  {
   "attachments": {
    "image.png": {
     "image/png": "[encoded data removed]"
    }
   },
   "cell_type": "markdown",
   "metadata": {},
   "source": [
    "![image.png](attachment:image.png)"
   ]
  }
 ],
 "metadata": {
  "kernelspec": {
   "display_name": "Python 3",
   "language": "python",
   "name": "python3"
  },
  "language_info": {
   "codemirror_mode": {
    "name": "ipython",
    "version": 3
   },
   "file_extension": ".py",
   "mimetype": "text/x-python",
   "name": "python",
   "nbconvert_exporter": "python",
   "pygments_lexer": "ipython3",
   "version": "3.10.6"
  },
  "orig_nbformat": 4
 },
 "nbformat": 4,
 "nbformat_minor": 2
}
