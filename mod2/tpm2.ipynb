{
 "cells": [
  {
   "cell_type": "code",
   "execution_count": 1,
   "metadata": {},
   "outputs": [],
   "source": [
    "from pyspark.sql import SparkSession"
   ]
  },
  {
   "cell_type": "code",
   "execution_count": 2,
   "metadata": {},
   "outputs": [
    {
     "name": "stdout",
     "output_type": "stream",
     "text": [
      "23/04/08 21:21:49 WARN Utils: Your hostname, wedivv-H110M-S2V resolves to a loopback address: 127.0.1.1; using 192.168.1.44 instead (on interface wlp5s0)\n",
      "23/04/08 21:21:49 WARN Utils: Set SPARK_LOCAL_IP if you need to bind to another address\n"
     ]
    },
    {
     "name": "stderr",
     "output_type": "stream",
     "text": [
      "Setting default log level to \"WARN\".\n",
      "To adjust logging level use sc.setLogLevel(newLevel). For SparkR, use setLogLevel(newLevel).\n"
     ]
    },
    {
     "name": "stdout",
     "output_type": "stream",
     "text": [
      "23/04/08 21:21:50 WARN NativeCodeLoader: Unable to load native-hadoop library for your platform... using builtin-java classes where applicable\n",
      "23/04/08 21:21:51 WARN Utils: Service 'SparkUI' could not bind on port 4040. Attempting port 4041.\n"
     ]
    }
   ],
   "source": [
    "spark = SparkSession.builder \\\n",
    "    .master(\"local[*]\") \\\n",
    "    .appName('IMDb - TPM2 IGTI DeCloud') \\\n",
    "    .getOrCreate()"
   ]
  },
  {
   "cell_type": "code",
   "execution_count": 3,
   "metadata": {},
   "outputs": [],
   "source": [
    "title_basics = spark.read.csv('data/title_basics.tsv', header=True, sep='\\t')"
   ]
  },
  {
   "cell_type": "code",
   "execution_count": 4,
   "metadata": {},
   "outputs": [
    {
     "name": "stdout",
     "output_type": "stream",
     "text": [
      "+---------+---------+--------------------+--------------------+-------+---------+-------+--------------+--------------------+\n",
      "|   tconst|titleType|        primaryTitle|       originalTitle|isAdult|startYear|endYear|runtimeMinutes|              genres|\n",
      "+---------+---------+--------------------+--------------------+-------+---------+-------+--------------+--------------------+\n",
      "|tt0000001|    short|          Carmencita|          Carmencita|      0|     1894|     \\N|             1|   Documentary,Short|\n",
      "|tt0000002|    short|Le clown et ses c...|Le clown et ses c...|      0|     1892|     \\N|             5|     Animation,Short|\n",
      "|tt0000003|    short|      Pauvre Pierrot|      Pauvre Pierrot|      0|     1892|     \\N|             4|Animation,Comedy,...|\n",
      "|tt0000004|    short|         Un bon bock|         Un bon bock|      0|     1892|     \\N|            12|     Animation,Short|\n",
      "|tt0000005|    short|    Blacksmith Scene|    Blacksmith Scene|      0|     1893|     \\N|             1|        Comedy,Short|\n",
      "+---------+---------+--------------------+--------------------+-------+---------+-------+--------------+--------------------+\n",
      "only showing top 5 rows\n",
      "\n"
     ]
    }
   ],
   "source": [
    "title_basics.show(5)"
   ]
  },
  {
   "cell_type": "code",
   "execution_count": 6,
   "metadata": {},
   "outputs": [],
   "source": [
    "from pyspark.sql.functions import split\n",
    "\n",
    "title_basics = title_basics.withColumn(\"genres_split\", split(title_basics[\"genres\"], \",\"))"
   ]
  },
  {
   "cell_type": "code",
   "execution_count": 7,
   "metadata": {},
   "outputs": [],
   "source": [
    "from pyspark.sql.functions import explode\n",
    "\n",
    "title_basics = title_basics.select([\"*\", explode(\"genres_split\").alias(\"genre\")]).drop(\"genres_split\")\n"
   ]
  },
  {
   "cell_type": "code",
   "execution_count": 8,
   "metadata": {},
   "outputs": [
    {
     "name": "stdout",
     "output_type": "stream",
     "text": [
      "+---------+---------+--------------------+--------------------+-------+---------+-------+--------------+--------------------+-----------+\n",
      "|   tconst|titleType|        primaryTitle|       originalTitle|isAdult|startYear|endYear|runtimeMinutes|              genres|      genre|\n",
      "+---------+---------+--------------------+--------------------+-------+---------+-------+--------------+--------------------+-----------+\n",
      "|tt0000001|    short|          Carmencita|          Carmencita|      0|     1894|     \\N|             1|   Documentary,Short|Documentary|\n",
      "|tt0000001|    short|          Carmencita|          Carmencita|      0|     1894|     \\N|             1|   Documentary,Short|      Short|\n",
      "|tt0000002|    short|Le clown et ses c...|Le clown et ses c...|      0|     1892|     \\N|             5|     Animation,Short|  Animation|\n",
      "|tt0000002|    short|Le clown et ses c...|Le clown et ses c...|      0|     1892|     \\N|             5|     Animation,Short|      Short|\n",
      "|tt0000003|    short|      Pauvre Pierrot|      Pauvre Pierrot|      0|     1892|     \\N|             4|Animation,Comedy,...|  Animation|\n",
      "+---------+---------+--------------------+--------------------+-------+---------+-------+--------------+--------------------+-----------+\n",
      "only showing top 5 rows\n",
      "\n"
     ]
    }
   ],
   "source": [
    "title_basics.show(5)"
   ]
  },
  {
   "cell_type": "code",
   "execution_count": 9,
   "metadata": {},
   "outputs": [
    {
     "name": "stderr",
     "output_type": "stream",
     "text": [
      "                                                                                \r"
     ]
    },
    {
     "data": {
      "text/plain": [
       "12998329"
      ]
     },
     "execution_count": 9,
     "metadata": {},
     "output_type": "execute_result"
    }
   ],
   "source": [
    "title_basics.count()"
   ]
  },
  {
   "cell_type": "code",
   "execution_count": 10,
   "metadata": {},
   "outputs": [
    {
     "name": "stdout",
     "output_type": "stream",
     "text": [
      "+---------+-------------+--------+\n",
      "|   tconst|averageRating|numVotes|\n",
      "+---------+-------------+--------+\n",
      "|tt0000001|          5.7|    1809|\n",
      "|tt0000002|          6.0|     233|\n",
      "|tt0000003|          6.5|    1560|\n",
      "|tt0000004|          6.1|     152|\n",
      "|tt0000005|          6.2|    2383|\n",
      "+---------+-------------+--------+\n",
      "only showing top 5 rows\n",
      "\n"
     ]
    }
   ],
   "source": [
    "title_ratings = spark.read.csv('data/title_ratings.tsv', header=True, sep='\\t')\n",
    "title_ratings.show(5)"
   ]
  },
  {
   "cell_type": "code",
   "execution_count": 11,
   "metadata": {},
   "outputs": [
    {
     "name": "stdout",
     "output_type": "stream",
     "text": [
      "root\n",
      " |-- tconst: string (nullable = true)\n",
      " |-- averageRating: string (nullable = true)\n",
      " |-- numVotes: string (nullable = true)\n",
      "\n"
     ]
    }
   ],
   "source": [
    "title_ratings.printSchema()"
   ]
  },
  {
   "cell_type": "code",
   "execution_count": 12,
   "metadata": {},
   "outputs": [],
   "source": [
    "title = title_basics.join(title_ratings, title_basics.tconst == title_ratings.tconst, how='left_outer').drop(title_ratings.tconst)"
   ]
  },
  {
   "cell_type": "code",
   "execution_count": 13,
   "metadata": {},
   "outputs": [
    {
     "name": "stdout",
     "output_type": "stream",
     "text": [
      "root\n",
      " |-- tconst: string (nullable = true)\n",
      " |-- titleType: string (nullable = true)\n",
      " |-- primaryTitle: string (nullable = true)\n",
      " |-- originalTitle: string (nullable = true)\n",
      " |-- isAdult: string (nullable = true)\n",
      " |-- startYear: string (nullable = true)\n",
      " |-- endYear: string (nullable = true)\n",
      " |-- runtimeMinutes: string (nullable = true)\n",
      " |-- genres: string (nullable = true)\n",
      " |-- genre: string (nullable = false)\n",
      " |-- averageRating: string (nullable = true)\n",
      " |-- numVotes: string (nullable = true)\n",
      "\n"
     ]
    }
   ],
   "source": [
    "title.printSchema()"
   ]
  },
  {
   "attachments": {},
   "cell_type": "markdown",
   "metadata": {},
   "source": [
    "### Qual o gênero de títulos mais frequente?"
   ]
  },
  {
   "cell_type": "code",
   "execution_count": 34,
   "metadata": {},
   "outputs": [
    {
     "name": "stderr",
     "output_type": "stream",
     "text": [
      "[Stage 98:================================================>         (5 + 1) / 6]\r"
     ]
    },
    {
     "name": "stdout",
     "output_type": "stream",
     "text": [
      "+-----------+-------+\n",
      "|      genre|  count|\n",
      "+-----------+-------+\n",
      "|      Drama|2247995|\n",
      "|     Comedy|1653725|\n",
      "|      Short|1021850|\n",
      "|  Talk-Show| 900198|\n",
      "|Documentary| 764885|\n",
      "|    Romance| 724729|\n",
      "|         \\N| 643012|\n",
      "|     Family| 571470|\n",
      "|       News| 524662|\n",
      "| Reality-TV| 423455|\n",
      "|  Animation| 406284|\n",
      "|      Music| 394008|\n",
      "|      Crime| 351447|\n",
      "|     Action| 334580|\n",
      "|  Adventure| 324325|\n",
      "|  Game-Show| 252533|\n",
      "|      Adult| 242704|\n",
      "|      Sport| 178594|\n",
      "|    Fantasy| 174119|\n",
      "|    Mystery| 162448|\n",
      "+-----------+-------+\n",
      "only showing top 20 rows\n",
      "\n"
     ]
    },
    {
     "name": "stderr",
     "output_type": "stream",
     "text": [
      "                                                                                \r"
     ]
    }
   ],
   "source": [
    "#title.groupBy('genre').count().orderBy('count', ascending=False).show()\n",
    "title.groupBy('genre').count().sort('count', ascending=False).show()"
   ]
  },
  {
   "cell_type": "code",
   "execution_count": 31,
   "metadata": {},
   "outputs": [
    {
     "name": "stderr",
     "output_type": "stream",
     "text": [
      "[Stage 87:================================================>         (5 + 1) / 6]\r"
     ]
    },
    {
     "name": "stdout",
     "output_type": "stream",
     "text": [
      "+------------+-------+\n",
      "|   titleType|  count|\n",
      "+------------+-------+\n",
      "|   tvEpisode|9297133|\n",
      "|       short|1692723|\n",
      "|       movie| 862338|\n",
      "|       video| 530560|\n",
      "|    tvSeries| 286685|\n",
      "|     tvMovie| 169820|\n",
      "|tvMiniSeries|  53027|\n",
      "|   videoGame|  45227|\n",
      "|   tvSpecial|  39804|\n",
      "|     tvShort|  21009|\n",
      "|     tvPilot|      1|\n",
      "| radioSeries|      1|\n",
      "|radioEpisode|      1|\n",
      "+------------+-------+\n",
      "\n"
     ]
    },
    {
     "name": "stderr",
     "output_type": "stream",
     "text": [
      "                                                                                \r"
     ]
    }
   ],
   "source": [
    "title_type = title.groupBy('titleType').count().sort('count', ascending=False)\n",
    "title_type.show()\n"
   ]
  },
  {
   "attachments": {},
   "cell_type": "markdown",
   "metadata": {},
   "source": [
    "### Quantos filmes (incluindo os da televisão) foram lançados no ano de 2015?"
   ]
  },
  {
   "cell_type": "code",
   "execution_count": 41,
   "metadata": {},
   "outputs": [
    {
     "name": "stderr",
     "output_type": "stream",
     "text": [
      "[Stage 144:===============================================>         (5 + 1) / 6]\r"
     ]
    },
    {
     "name": "stdout",
     "output_type": "stream",
     "text": [
      "+-----------------------+\n",
      "|filmes lançados em 2015|\n",
      "+-----------------------+\n",
      "|                  19987|\n",
      "+-----------------------+\n",
      "\n"
     ]
    },
    {
     "name": "stderr",
     "output_type": "stream",
     "text": [
      "                                                                                \r"
     ]
    }
   ],
   "source": [
    "from pyspark.sql.functions import countDistinct\n",
    "\n",
    "movies_2015 = title.filter(((title.titleType == 'movie') | (title.titleType == 'tvMovie')) & (title.startYear == '2015'))\n",
    "movies_2015 = movies_2015.select(countDistinct('tconst').alias('filmes lançados em 2015'))\n",
    "movies_2015.show()\n"
   ]
  },
  {
   "attachments": {},
   "cell_type": "markdown",
   "metadata": {},
   "source": [
    "### Qual o gênero com a melhor nota média de títulos?"
   ]
  },
  {
   "cell_type": "code",
   "execution_count": 16,
   "metadata": {},
   "outputs": [
    {
     "name": "stderr",
     "output_type": "stream",
     "text": [
      "[Stage 23:>                                                         (0 + 4) / 4]\r"
     ]
    },
    {
     "name": "stdout",
     "output_type": "stream",
     "text": [
      "23/04/07 14:49:35 WARN RowBasedKeyValueBatch: Calling spill() on RowBasedKeyValueBatch. Will not spill but return 0.\n",
      "23/04/07 14:49:35 WARN RowBasedKeyValueBatch: Calling spill() on RowBasedKeyValueBatch. Will not spill but return 0.\n",
      "23/04/07 14:49:35 WARN RowBasedKeyValueBatch: Calling spill() on RowBasedKeyValueBatch. Will not spill but return 0.\n",
      "23/04/07 14:49:35 WARN RowBasedKeyValueBatch: Calling spill() on RowBasedKeyValueBatch. Will not spill but return 0.\n",
      "23/04/07 14:49:36 WARN RowBasedKeyValueBatch: Calling spill() on RowBasedKeyValueBatch. Will not spill but return 0.\n",
      "23/04/07 14:49:36 WARN RowBasedKeyValueBatch: Calling spill() on RowBasedKeyValueBatch. Will not spill but return 0.\n",
      "23/04/07 14:49:36 WARN RowBasedKeyValueBatch: Calling spill() on RowBasedKeyValueBatch. Will not spill but return 0.\n",
      "23/04/07 14:49:36 WARN RowBasedKeyValueBatch: Calling spill() on RowBasedKeyValueBatch. Will not spill but return 0.\n"
     ]
    },
    {
     "name": "stderr",
     "output_type": "stream",
     "text": [
      "[Stage 23:==============>                                           (1 + 3) / 4]\r"
     ]
    },
    {
     "name": "stdout",
     "output_type": "stream",
     "text": [
      "+-----------+-----------------+\n",
      "|      genre|       avg_rating|\n",
      "+-----------+-----------------+\n",
      "|    History|7.353780102645096|\n",
      "|Documentary|7.240198535554619|\n",
      "|  Biography|7.175531914893612|\n",
      "|    Mystery|7.170086406897958|\n",
      "|      Crime|7.159842868485991|\n",
      "|  Adventure|7.107629703351799|\n",
      "|    Fantasy|7.095145650845389|\n",
      "|  Animation|7.089381171483267|\n",
      "|    Western|7.080683426568721|\n",
      "|     Family|7.070054926034511|\n",
      "|      Drama|7.040979155040105|\n",
      "|        War|7.009115134414917|\n",
      "|     Action| 7.00709813874791|\n",
      "|      Sport|6.966792418526419|\n",
      "|     Comedy|6.960016550918294|\n",
      "|      Music|6.927469624015723|\n",
      "| Reality-TV|6.892611170895987|\n",
      "|  Game-Show|6.876828101904179|\n",
      "|    Romance|6.864016164703988|\n",
      "|      Short|6.791292438368553|\n",
      "+-----------+-----------------+\n",
      "only showing top 20 rows\n",
      "\n"
     ]
    },
    {
     "name": "stderr",
     "output_type": "stream",
     "text": [
      "                                                                                \r"
     ]
    }
   ],
   "source": [
    "from pyspark.sql.functions import avg, desc\n",
    "\n",
    "# Agrupa por gênero e calcula a média de averageRating\n",
    "grouped = title.groupBy('genre').agg(avg('averageRating').alias('avg_rating'))\n",
    "\n",
    "# Ordena pelo valor médio da nota em ordem decrescente\n",
    "sorted_grouped = grouped.sort(desc('avg_rating'))\n",
    "\n",
    "sorted_grouped.show()\n"
   ]
  },
  {
   "attachments": {},
   "cell_type": "markdown",
   "metadata": {},
   "source": [
    "### Qual o vídeo game do gênero aventura mais bem avaliado em 2020?"
   ]
  },
  {
   "cell_type": "code",
   "execution_count": 38,
   "metadata": {},
   "outputs": [
    {
     "name": "stderr",
     "output_type": "stream",
     "text": [
      "[Stage 121:===============================================>         (5 + 1) / 6]\r"
     ]
    },
    {
     "name": "stdout",
     "output_type": "stream",
     "text": [
      "+--------------------+-------------+----------+---------+\n",
      "|        primaryTitle|averageRating|    tconst|    genre|\n",
      "+--------------------+-------------+----------+---------+\n",
      "|               Omori|          9.2|tt14106780|Adventure|\n",
      "|   Ghost of Tsushima|          9.3| tt7651352|Adventure|\n",
      "|     Half-Life: Alyx|          9.5|tt11321196|Adventure|\n",
      "|Final Fantasy VII...|          9.1| tt6057416|Adventure|\n",
      "+--------------------+-------------+----------+---------+\n",
      "\n"
     ]
    },
    {
     "name": "stderr",
     "output_type": "stream",
     "text": [
      "                                                                                \r"
     ]
    }
   ],
   "source": [
    "game_adventure_2020 = title.filter((title.titleType == 'videoGame') & (title.startYear == '2020') & (title.genre == 'Adventure'))\n",
    "\n",
    "game_adventure_2020 = game_adventure_2020.select(['primaryTitle', 'averageRating', 'tconst', 'genre']).distinct()\n",
    "\n",
    "titles_games = ['Omori', 'Final Fantasy VII Remake', 'Half-Life: Alyx', 'Ghost of Tsushima']\n",
    "\n",
    "matching_rows = game_adventure_2020.filter(game_adventure_2020.primaryTitle.isin(titles_games))\n",
    "\n",
    "matching_rows.show()"
   ]
  },
  {
   "attachments": {},
   "cell_type": "markdown",
   "metadata": {},
   "source": [
    "### Quantos títulos de filmes diferentes existem?"
   ]
  },
  {
   "cell_type": "code",
   "execution_count": 18,
   "metadata": {},
   "outputs": [
    {
     "name": "stderr",
     "output_type": "stream",
     "text": [
      "[Stage 38:>                                                         (0 + 4) / 5]\r"
     ]
    },
    {
     "name": "stdout",
     "output_type": "stream",
     "text": [
      "+-----------------+\n",
      "|Titulos de filmes|\n",
      "+-----------------+\n",
      "|          3931660|\n",
      "+-----------------+\n",
      "\n"
     ]
    },
    {
     "name": "stderr",
     "output_type": "stream",
     "text": [
      "                                                                                \r"
     ]
    }
   ],
   "source": [
    "mv_titles = title.select(countDistinct('primaryTitle').alias('Titulos de filmes'))\n",
    "mv_titles.show()"
   ]
  },
  {
   "attachments": {},
   "cell_type": "markdown",
   "metadata": {},
   "source": [
    "### Qual a duração média dos filmes com conteúdo adulto?"
   ]
  },
  {
   "cell_type": "code",
   "execution_count": null,
   "metadata": {},
   "outputs": [
    {
     "name": "stderr",
     "output_type": "stream",
     "text": [
      "[Stage 376:>                                                        (0 + 3) / 3]\r"
     ]
    },
    {
     "name": "stdout",
     "output_type": "stream",
     "text": [
      "+-------+---------+------------------+\n",
      "|summary|   tconst|    runtimeMinutes|\n",
      "+-------+---------+------------------+\n",
      "|  count|   242704|            242704|\n",
      "|   mean|     null|  93.6222312036195|\n",
      "| stddev|     null|57.459346444443966|\n",
      "|    min|tt0062727|                 1|\n",
      "|    max|tt9916266|                \\N|\n",
      "+-------+---------+------------------+\n",
      "\n"
     ]
    },
    {
     "name": "stderr",
     "output_type": "stream",
     "text": [
      "                                                                                \r"
     ]
    }
   ],
   "source": [
    "adult_movie = title.filter(title.genre == 'Adult')\n",
    "adult_movie = adult_movie.select('tconst', 'runtimeMinutes').dropDuplicates(['tconst'])\n",
    "\n",
    "\n",
    "adult_movie.describe().show()\n"
   ]
  },
  {
   "attachments": {},
   "cell_type": "markdown",
   "metadata": {},
   "source": [
    "### Quantos filmes têm o título atual (“primary”) diferente do título original? "
   ]
  },
  {
   "cell_type": "code",
   "execution_count": 65,
   "metadata": {},
   "outputs": [
    {
     "name": "stderr",
     "output_type": "stream",
     "text": [
      "[Stage 307:===============================================>         (5 + 1) / 6]\r"
     ]
    },
    {
     "name": "stdout",
     "output_type": "stream",
     "text": [
      "+------+\n",
      "| count|\n",
      "+------+\n",
      "|125046|\n",
      "+------+\n",
      "\n"
     ]
    },
    {
     "name": "stderr",
     "output_type": "stream",
     "text": [
      "                                                                                \r"
     ]
    }
   ],
   "source": [
    "diff_title = title.filter(title.primaryTitle != title.originalTitle)\n",
    "diff_count = diff_title.agg(countDistinct('tconst').alias('count'))\n",
    "\n",
    "diff_count.show()\n"
   ]
  },
  {
   "attachments": {},
   "cell_type": "markdown",
   "metadata": {},
   "source": [
    "### Qual o filme que tem o nome mais longo?"
   ]
  },
  {
   "cell_type": "code",
   "execution_count": 60,
   "metadata": {},
   "outputs": [
    {
     "name": "stderr",
     "output_type": "stream",
     "text": [
      "[Stage 286:===============================================>         (5 + 1) / 6]\r"
     ]
    },
    {
     "name": "stdout",
     "output_type": "stream",
     "text": [
      "+----------+--------------------+------------+\n",
      "|    tconst|        primaryTitle|title_length|\n",
      "+----------+--------------------+------------+\n",
      "|tt12985206|Otoko wa chi _ ko...|         419|\n",
      "|tt13007080|Creampie Voluntee...|         409|\n",
      "| tt7727908|Yufukuna kurashi ...|         408|\n",
      "| tt7727908|Yufukuna kurashi ...|         408|\n",
      "|tt12870546|An Ultra K-Cup Ti...|         405|\n",
      "|tt12866892|I'm A Dirty Old M...|         401|\n",
      "| tt7395478|'Oppai dakenara s...|         400|\n",
      "|tt13558536|While Horsing Aro...|         386|\n",
      "|tt13053838|The Dumb Cunt Is ...|         383|\n",
      "|tt13931914|EE.UU. Se replieg...|         368|\n",
      "| tt7509356|Kanojo ni furaret...|         366|\n",
      "|tt13278010|This Son Was Secr...|         351|\n",
      "|tt10813978|Y- the total ease...|         347|\n",
      "|tt10813978|Y- the total ease...|         347|\n",
      "|tt10813978|Y- the total ease...|         347|\n",
      "|tt13009172|I'm the Silent Ty...|         340|\n",
      "|tt14128648|'No, No, No! Your...|         339|\n",
      "|tt13356578|An Up Close and P...|         337|\n",
      "| tt7298012|O nichan tanjobio...|         327|\n",
      "| tt6271822|Shoshika no sakko...|         322|\n",
      "+----------+--------------------+------------+\n",
      "only showing top 20 rows\n",
      "\n"
     ]
    },
    {
     "name": "stderr",
     "output_type": "stream",
     "text": [
      "                                                                                \r"
     ]
    }
   ],
   "source": [
    "from pyspark.sql.functions import length\n",
    "\n",
    "longest_title = title.select('tconst', 'primaryTitle', length('primaryTitle').alias('title_length'))\\\n",
    "    .sort(desc('title_length'))\n",
    "\n",
    "longest_title.show()\n"
   ]
  },
  {
   "attachments": {},
   "cell_type": "markdown",
   "metadata": {},
   "source": [
    "### Qual filme tem a maior quantidade de votos? "
   ]
  },
  {
   "cell_type": "code",
   "execution_count": 53,
   "metadata": {},
   "outputs": [
    {
     "name": "stderr",
     "output_type": "stream",
     "text": [
      "[Stage 265:===============================================>         (5 + 1) / 6]\r"
     ]
    },
    {
     "name": "stdout",
     "output_type": "stream",
     "text": [
      "+-------+---------+------------------+\n",
      "|summary|   tconst|     averageRating|\n",
      "+-------+---------+------------------+\n",
      "|  count|       10|                10|\n",
      "|   mean|     null| 6.329999999999998|\n",
      "| stddev|     null|1.4384018909887462|\n",
      "|    min|tt0110557|               5.3|\n",
      "|    max|tt0111161|               9.3|\n",
      "+-------+---------+------------------+\n",
      "\n"
     ]
    },
    {
     "name": "stderr",
     "output_type": "stream",
     "text": [
      "                                                                                \r"
     ]
    }
   ],
   "source": [
    "films_list = ['tt0110613', 'tt0111161', 'tt0110557', 'tt0110570']\n",
    "\n",
    "movies_hightest = title.select('tconst', 'averageRating')\n",
    "movie_matching = movies_hightest.filter(movies_hightest.tconst.isin(films_list))\n",
    "movie_matching = movie_matching.select('tconst', 'averageRating')\n",
    "\n",
    "movie_matching.describe().show()\n",
    "\n",
    "\n"
   ]
  },
  {
   "attachments": {},
   "cell_type": "markdown",
   "metadata": {},
   "source": [
    "### Qual é a menor nota média de um filme? "
   ]
  },
  {
   "cell_type": "code",
   "execution_count": 45,
   "metadata": {},
   "outputs": [
    {
     "name": "stderr",
     "output_type": "stream",
     "text": [
      "[Stage 193:===============================================>         (5 + 1) / 6]\r"
     ]
    },
    {
     "name": "stdout",
     "output_type": "stream",
     "text": [
      "+-------+------------------+\n",
      "|summary|     averageRating|\n",
      "+-------+------------------+\n",
      "|  count|            461313|\n",
      "|   mean|  6.10826271967178|\n",
      "| stddev|1.3100258236943179|\n",
      "|    min|               1.0|\n",
      "|    max|               9.9|\n",
      "+-------+------------------+\n",
      "\n"
     ]
    },
    {
     "name": "stderr",
     "output_type": "stream",
     "text": [
      "                                                                                \r"
     ]
    }
   ],
   "source": [
    "movies_lowest = title.filter(title.titleType == 'movie')\n",
    "movies_lowest = movies_lowest.select('averageRating')\n",
    "movies_lowest.describe().show()\n"
   ]
  }
 ],
 "metadata": {
  "kernelspec": {
   "display_name": "Python 3",
   "language": "python",
   "name": "python3"
  },
  "language_info": {
   "codemirror_mode": {
    "name": "ipython",
    "version": 3
   },
   "file_extension": ".py",
   "mimetype": "text/x-python",
   "name": "python",
   "nbconvert_exporter": "python",
   "pygments_lexer": "ipython3",
   "version": "3.10.6"
  },
  "orig_nbformat": 4
 },
 "nbformat": 4,
 "nbformat_minor": 2
}
